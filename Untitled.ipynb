{
 "cells": [
  {
   "cell_type": "code",
   "execution_count": 21,
   "id": "fcd58f29-51a0-4fc4-a478-15d86a2db863",
   "metadata": {},
   "outputs": [
    {
     "name": "stdout",
     "output_type": "stream",
     "text": [
      "Lets learn python for Machine Learning.\n"
     ]
    }
   ],
   "source": [
    "#Lets learn about print statements \n",
    "print(\"Lets learn python for Machine Learning.\")"
   ]
  },
  {
   "cell_type": "code",
   "execution_count": 1,
   "id": "218769e0-2bf8-4d16-a604-6ae17bff6756",
   "metadata": {},
   "outputs": [
    {
     "name": "stdout",
     "output_type": "stream",
     "text": [
      "20\n",
      "Pashupati\n"
     ]
    }
   ],
   "source": [
    "# variable\n",
    "x = 20 \n",
    "y = \"Pashupati\"\n",
    "print(x)\n",
    "print(y)"
   ]
  },
  {
   "cell_type": "code",
   "execution_count": 23,
   "id": "ec7358bb-5de1-497d-922a-9e01aea73e71",
   "metadata": {},
   "outputs": [
    {
     "name": "stdout",
     "output_type": "stream",
     "text": [
      "Abishek is 20 years old.\n"
     ]
    }
   ],
   "source": [
    "# Using string formatting\n",
    "print(f\"{y} is {x} years old.\")"
   ]
  },
  {
   "cell_type": "code",
   "execution_count": 24,
   "id": "3b400391-1e8f-4699-8aa7-41d62fabc523",
   "metadata": {},
   "outputs": [
    {
     "name": "stdout",
     "output_type": "stream",
     "text": [
      "Abishek is 20 year old.\n"
     ]
    }
   ],
   "source": [
    "# Using format method.\n",
    "print(\"{} is {} year old.\".format(y, x))"
   ]
  },
  {
   "cell_type": "code",
   "execution_count": 25,
   "id": "46a8815a-f184-4fe5-b3b6-5c2501c2aa84",
   "metadata": {},
   "outputs": [
    {
     "name": "stdout",
     "output_type": "stream",
     "text": [
      "Abishek is 20 Year old.\n"
     ]
    }
   ],
   "source": [
    "# Using concatenation method.\n",
    "print(y + \" is \" + str(x) + \" Year old.\")"
   ]
  },
  {
   "cell_type": "code",
   "execution_count": 26,
   "id": "0fa223ba-9f7c-4796-b03b-cde5a8eb893d",
   "metadata": {},
   "outputs": [
    {
     "name": "stdout",
     "output_type": "stream",
     "text": [
      "Abishek is 20 years old.\n"
     ]
    }
   ],
   "source": [
    "# Using older % string formatting method\n",
    "print(\"%s is %d years old.\" %(y, x))"
   ]
  },
  {
   "cell_type": "code",
   "execution_count": 27,
   "id": "720a081b-263e-4b2c-8e8c-92d816f38536",
   "metadata": {},
   "outputs": [
    {
     "data": {
      "text/plain": [
       "20"
      ]
     },
     "execution_count": 27,
     "metadata": {},
     "output_type": "execute_result"
    }
   ],
   "source": [
    "x"
   ]
  },
  {
   "cell_type": "code",
   "execution_count": 28,
   "id": "b577eced-c548-4bde-ad96-02b2a396880d",
   "metadata": {},
   "outputs": [
    {
     "data": {
      "text/plain": [
       "'Abishek'"
      ]
     },
     "execution_count": 28,
     "metadata": {},
     "output_type": "execute_result"
    }
   ],
   "source": [
    "y"
   ]
  },
  {
   "cell_type": "code",
   "execution_count": 29,
   "id": "a4e1f936-8278-4187-9c5b-fe49df138f7b",
   "metadata": {},
   "outputs": [
    {
     "name": "stdout",
     "output_type": "stream",
     "text": [
      "The addition of x and y is 60.\n",
      "The Subtraction of x from y is 40.\n",
      "The Multification of x and y is 500.\n",
      "The Division of y from x is 5.0.\n"
     ]
    }
   ],
   "source": [
    "# working with numbers\n",
    "x = 10\n",
    "y = 50\n",
    "print(f\"The addition of x and y is {x + y}.\")\n",
    "print(f\"The Subtraction of x from y is {y - x}.\")\n",
    "print(f\"The Multification of x and y is {x * y}.\")\n",
    "print(f\"The Division of y from x is {y / x}.\")"
   ]
  },
  {
   "cell_type": "code",
   "execution_count": 30,
   "id": "c4863145-8123-4a4f-a053-a038cdb68384",
   "metadata": {},
   "outputs": [
    {
     "name": "stdout",
     "output_type": "stream",
     "text": [
      "Single Quoted String: Python is Awesome!!\n"
     ]
    }
   ],
   "source": [
    "# Working with single_quoted_string\n",
    "single_quoted_string = 'Python is Awesome!!'\n",
    "print(\"Single Quoted String:\", single_quoted_string)"
   ]
  },
  {
   "cell_type": "code",
   "execution_count": 31,
   "id": "847a021d-40fd-4459-87bb-979996a2fc09",
   "metadata": {},
   "outputs": [
    {
     "name": "stdout",
     "output_type": "stream",
     "text": [
      "Single Quoted String: I am Learning Python!!\n"
     ]
    }
   ],
   "source": [
    "# Working with double_quoted_string\n",
    "double_quoted_string = 'I am Learning Python!!'\n",
    "print(\"Single Quoted String:\", double_quoted_string)"
   ]
  },
  {
   "cell_type": "code",
   "execution_count": 32,
   "id": "2829cc3a-a151-4b79-a381-cfab32f85543",
   "metadata": {},
   "outputs": [
    {
     "name": "stdout",
     "output_type": "stream",
     "text": [
      "Concatenated String is: Python is Awesome!! I am Learning Python!!\n"
     ]
    }
   ],
   "source": [
    "#String Concatention \n",
    "concatenated_string = single_quoted_string + ' ' + double_quoted_string\n",
    "print(\"Concatenated String is:\", concatenated_string)"
   ]
  },
  {
   "cell_type": "code",
   "execution_count": 33,
   "id": "55e106c5-dbcb-4ed0-824d-d5ca0ed8a138",
   "metadata": {},
   "outputs": [
    {
     "name": "stdout",
     "output_type": "stream",
     "text": [
      "PYTHON IS AWESOME!! I AM LEARNING PYTHON!!\n",
      "python is awesome!! i am learning python!!\n"
     ]
    }
   ],
   "source": [
    "#String Methods\n",
    "uppercase_string = concatenated_string.upper()\n",
    "print(uppercase_string)\n",
    "lowercase_string = concatenated_string.lower()\n",
    "print(lowercase_string)"
   ]
  },
  {
   "cell_type": "code",
   "execution_count": 3,
   "id": "c6ce6e0d-2b23-4068-a233-93a2ffc367ff",
   "metadata": {},
   "outputs": [
    {
     "name": "stdout",
     "output_type": "stream",
     "text": [
      "Slice word is:  ersity\n"
     ]
    }
   ],
   "source": [
    "#string slicing examples\n",
    "word = \"University of Sunderland\"\n",
    "slice_word = word[4: 10]\n",
    "print(\"Slice word is: \", slice_word)"
   ]
  },
  {
   "cell_type": "code",
   "execution_count": 7,
   "id": "ccf5ac92-f0ac-4c87-b3f6-0619ba3ec26c",
   "metadata": {},
   "outputs": [
    {
     "name": "stdout",
     "output_type": "stream",
     "text": [
      "   Pokhara University   \n",
      "Removed Space: Pokhara University\n"
     ]
    }
   ],
   "source": [
    "#Space examples\n",
    "word_space = \"   Pokhara University   \"\n",
    "print(word_space)\n",
    "remove_space = word_space.strip()\n",
    "print(\"Removed Space:\",remove_space)"
   ]
  },
  {
   "cell_type": "code",
   "execution_count": 22,
   "id": "46a2b50c-1c5c-483b-b5b0-075b7d43b244",
   "metadata": {},
   "outputs": [
    {
     "name": "stdout",
     "output_type": "stream",
     "text": [
      "Word List: ['Kali', 'Linux', 'is', 'used', 'for', 'hacking']\n",
      "Complete Sentence is: Kali Linux is used for hacking\n"
     ]
    }
   ],
   "source": [
    "# Join function\n",
    "word_list = [\"Kali\", \"Linux\", \"is\", \"used\", \"for\", \"hacking\"]\n",
    "print(\"Word List:\", word_list)\n",
    "sentence = \" \".join(word_list)\n",
    "print(\"Complete Sentence is:\", sentence)"
   ]
  },
  {
   "cell_type": "code",
   "execution_count": 18,
   "id": "f35e52c2-186f-4abb-a2df-034925479836",
   "metadata": {},
   "outputs": [
    {
     "name": "stdout",
     "output_type": "stream",
     "text": [
      "Replaced Sentence:  Cybersecurity, World\n"
     ]
    }
   ],
   "source": [
    "# Replace Function\n",
    "word_list = \"Hello, World\"\n",
    "replaced_string = word_list.replace(\"Hello\", \"Cybersecurity\")\n",
    "print(\"Replaced Sentence: \", replaced_string)"
   ]
  },
  {
   "cell_type": "code",
   "execution_count": 21,
   "id": "351b323a-c1e0-4994-a23f-701ecb2816a2",
   "metadata": {},
   "outputs": [
    {
     "name": "stdout",
     "output_type": "stream",
     "text": [
      "Index of course: 46\n"
     ]
    }
   ],
   "source": [
    "# Find a word in a sentence \n",
    "word = \"Python is Awesome!! I'm learning python crash course.\"\n",
    "index = word.find(\"course\")\n",
    "print(\"Index of course:\", index)"
   ]
  },
  {
   "cell_type": "raw",
   "id": "2b64a5b4-184a-49a8-bd32-67fc81074630",
   "metadata": {},
   "source": [
    "2.3 List"
   ]
  },
  {
   "cell_type": "code",
   "execution_count": 24,
   "id": "5ffd104f-e2fd-4228-8036-b9c30debdf34",
   "metadata": {},
   "outputs": [
    {
     "name": "stdout",
     "output_type": "stream",
     "text": [
      "Fav Movie: ['Hami 3 bhai', 'Papi Manxe', 'Aadi Pusush', 'Animal', 'Hera Pheri']\n"
     ]
    }
   ],
   "source": [
    "# Creating a List\n",
    "fav_movie = [\"Hami 3 bhai\", \"Papi Manxe\", \"Aadi Pusush\", \"Animal\", \"Hera Pheri\"]\n",
    "print(\"Fav Movie:\", fav_movie)"
   ]
  },
  {
   "cell_type": "code",
   "execution_count": 29,
   "id": "ae020248-64d2-4d24-9714-55466fe4b132",
   "metadata": {},
   "outputs": [
    {
     "name": "stdout",
     "output_type": "stream",
     "text": [
      "Udip Fav Movie is: Papi Manxe\n",
      "Nitin Fav Movie is: Animal\n",
      "Rashna Fav Movie is: Hera Pheri\n"
     ]
    }
   ],
   "source": [
    "# Accessing the element of list\n",
    "print(\"Udip Fav Movie is:\", fav_movie[1])\n",
    "print(\"Nitin Fav Movie is:\", fav_movie[3])\n",
    "print(\"Rashna Fav Movie is:\", fav_movie[-1])"
   ]
  },
  {
   "cell_type": "code",
   "execution_count": 31,
   "id": "33d09ed6-2a4c-41dc-982c-6120b6176eca",
   "metadata": {},
   "outputs": [
    {
     "name": "stdout",
     "output_type": "stream",
     "text": [
      "The Length of string is: 5\n"
     ]
    }
   ],
   "source": [
    "# Find the length of list\n",
    "print(\"The Length of string is:\" , len(fav_movie))"
   ]
  },
  {
   "cell_type": "code",
   "execution_count": 38,
   "id": "1a9e64cb-1743-4cf6-b8a3-a694e137b063",
   "metadata": {},
   "outputs": [
    {
     "name": "stdout",
     "output_type": "stream",
     "text": [
      "['Apple', 'Banana', 'Cherry', 'Dragon Fruit']\n",
      "[5, 10, 15, 20, 25]\n",
      "[True, False, False, True]\n",
      "['Apple', 5, True]\n"
     ]
    }
   ],
   "source": [
    "# List can contain \n",
    "list1 = [\"Apple\", \"Banana\", \"Cherry\", \"Dragon Fruit\"]\n",
    "list2 = [5, 10, 15, 20, 25]\n",
    "list3 = [True, False, False, True]\n",
    "list4 = [\"Apple\", 5, True]\n",
    "print(list1)\n",
    "print(list2)\n",
    "print(list3)\n",
    "print(list4)"
   ]
  },
  {
   "cell_type": "code",
   "execution_count": 36,
   "id": "a915a671-3284-420f-b1be-5d7817fc27b6",
   "metadata": {},
   "outputs": [
    {
     "name": "stdout",
     "output_type": "stream",
     "text": [
      "<class 'list'>\n"
     ]
    }
   ],
   "source": [
    "# let's find the type of data types\n",
    "print(type(list3))"
   ]
  },
  {
   "cell_type": "code",
   "execution_count": 41,
   "id": "53572a85-3c91-4288-9b2e-9cb036a89530",
   "metadata": {},
   "outputs": [
    {
     "name": "stdout",
     "output_type": "stream",
     "text": [
      "Nested list: ['One Piece', 'Lord of the Rings', [9, 10]]\n",
      "IMDB rating LOR: 10\n"
     ]
    }
   ],
   "source": [
    "#Nested List\n",
    "nested_list = [\"One Piece\", \"Lord of the Rings\", [9, 10]]\n",
    "print(\"Nested list:\", nested_list)\n",
    "print(\"IMDB rating LOR:\", nested_list[2][1])"
   ]
  },
  {
   "cell_type": "markdown",
   "id": "8a6611c0-5b0f-451d-b1ec-a571bb1d8c48",
   "metadata": {},
   "source": [
    "2.4 Disctionary"
   ]
  },
  {
   "cell_type": "code",
   "execution_count": 44,
   "id": "c9bfa9fe-505f-48fb-a561-ff532b2a9489",
   "metadata": {},
   "outputs": [
    {
     "name": "stdout",
     "output_type": "stream",
     "text": [
      "{'name': 'Siddhant', 'Department': 'Computer Engineering', 'CGPA': 3.8}\n"
     ]
    }
   ],
   "source": [
    "# Creating a disctionary\n",
    "student = {\n",
    "    \"name\": \"Siddhant\",\n",
    "    \"Department\": \"Computer Engineering\",\n",
    "    \"CGPA\": 3.8\n",
    "}\n",
    "print(student)"
   ]
  },
  {
   "cell_type": "code",
   "execution_count": 45,
   "id": "16e2dd3b-9518-4585-96d4-9643f2a8e8c1",
   "metadata": {},
   "outputs": [
    {
     "name": "stdout",
     "output_type": "stream",
     "text": [
      "Student's Name: Siddhant\n"
     ]
    }
   ],
   "source": [
    "# Accessing the disctionary items\n",
    "print(\"Student's Name:\", student[\"name\"])"
   ]
  },
  {
   "cell_type": "code",
   "execution_count": 46,
   "id": "3dec26cc-7563-4b19-870d-1be9ec6cfad2",
   "metadata": {},
   "outputs": [
    {
     "name": "stdout",
     "output_type": "stream",
     "text": [
      "{'name': 'Siddhant', 'Department': 'Computer Engineering', 'CGPA': 3.8, 'year': 2019}\n"
     ]
    }
   ],
   "source": [
    "#Adding a new element\n",
    "student[\"year\"] = 2019\n",
    "\n",
    "#Print the disctionary as a string\n",
    "print(repr(student))"
   ]
  },
  {
   "cell_type": "code",
   "execution_count": 47,
   "id": "3424b0fd-5510-4920-b9a7-8dc0f601cf20",
   "metadata": {},
   "outputs": [
    {
     "name": "stdout",
     "output_type": "stream",
     "text": [
      "{'name': 'Siddhant', 'Department': 'Computer Engineering', 'CGPA': 3.9, 'year': 2019}\n"
     ]
    }
   ],
   "source": [
    "#Modifying an exiting item\n",
    "student[\"CGPA\"] = 3.9\n",
    "print(repr(student))"
   ]
  },
  {
   "cell_type": "code",
   "execution_count": 54,
   "id": "7c2f422b-4ee4-422d-880b-ba5d94edc4a4",
   "metadata": {},
   "outputs": [],
   "source": [
    "# Deleting an item if it exists\n",
    "if \"year\" in student:\n",
    "    del student[\"year\"]\n",
    "    print(student)"
   ]
  },
  {
   "cell_type": "code",
   "execution_count": 55,
   "id": "b61f0a7f-3880-4b8d-a68f-af91be06b116",
   "metadata": {},
   "outputs": [
    {
     "name": "stdout",
     "output_type": "stream",
     "text": [
      "{'name': 'Tesla', 'company': 'Tesla', 'price': 10}\n"
     ]
    }
   ],
   "source": [
    "# \n",
    "car_dict = dict(name = \"Tesla\", company = \"Tesla\", price = 10)\n",
    "print(repr(car_dict))"
   ]
  },
  {
   "cell_type": "code",
   "execution_count": 3,
   "id": "486bd4c4-b6bf-4f55-943a-d3c1531275b3",
   "metadata": {},
   "outputs": [
    {
     "name": "stdout",
     "output_type": "stream",
     "text": [
      "\n",
      "Example1: Comparing Values:\n",
      "Is 100 is smaller than 200? True\n",
      "Is 50 equal to  100 False\n"
     ]
    }
   ],
   "source": [
    "# Boolean: Let's learn Boolean \n",
    "print(\"\\nExample1: Comparing Values:\")\n",
    "print(\"Is 100 is smaller than 200?\", 200 > 100)\n",
    "print(\"Is 50 equal to  100\", 50 == 100)"
   ]
  },
  {
   "cell_type": "code",
   "execution_count": 5,
   "id": "827bd40e-25e7-40f8-b91b-5e13c1a551ca",
   "metadata": {},
   "outputs": [
    {
     "name": "stdout",
     "output_type": "stream",
     "text": [
      "200 is greater than 50\n"
     ]
    }
   ],
   "source": [
    "#Example Find the greatest number among the \n",
    "x = 50\n",
    "y = 200\n",
    "if x > y:\n",
    "    print(f\"{x} is greater than {y}\")\n",
    "else: print(f\"{y} is greater than {x}\")"
   ]
  },
  {
   "cell_type": "code",
   "execution_count": 9,
   "id": "44a9e41f-3b1d-4ddc-9c08-cabffd840f7b",
   "metadata": {},
   "outputs": [
    {
     "name": "stdout",
     "output_type": "stream",
     "text": [
      "Is 'Hello' True? True\n",
      "Is x True? True\n",
      "Is y False? True\n"
     ]
    }
   ],
   "source": [
    "# Evulating Values and variables \n",
    "print(\"Is 'Hello' True?\", bool(\"Hello\"))\n",
    "x = \"Hi\"\n",
    "y = 25\n",
    "print(\"Is x True?\", bool(x))\n",
    "print(\"Is y False?\", bool(y))\n"
   ]
  },
  {
   "cell_type": "code",
   "execution_count": 13,
   "id": "807423da-4d12-4eeb-9239-bacc99368f9a",
   "metadata": {},
   "outputs": [
    {
     "name": "stdout",
     "output_type": "stream",
     "text": [
      "Is 20 is even? True\n",
      "Is 15 is even? True\n"
     ]
    }
   ],
   "source": [
    "# let's practice function that returns boolean\n",
    "def is_even(num):\n",
    "    return num % 2 == 0\n",
    "print(\"Is 20 is even?\", is_even(20))\n",
    "print(\"Is 15 is even?\", is_even(20))"
   ]
  },
  {
   "cell_type": "code",
   "execution_count": 14,
   "id": "a11ee3cc-3eb5-4482-ad78-80d9cb105338",
   "metadata": {},
   "outputs": [
    {
     "name": "stdout",
     "output_type": "stream",
     "text": [
      "('Najariya Churaya', 'One Piece', 'Tiger 3')\n"
     ]
    }
   ],
   "source": [
    "# Tules: Let's learn about tupless\n",
    "fav_movie = (\"Najariya Churaya\", \"One Piece\", \"Tiger 3\")\n",
    "print(fav_movie)"
   ]
  },
  {
   "cell_type": "code",
   "execution_count": 15,
   "id": "e033d4d2-b1ba-4699-b0e8-feda31e29d7e",
   "metadata": {},
   "outputs": [
    {
     "name": "stdout",
     "output_type": "stream",
     "text": [
      "Keshav fav movie is  Najariya Churaya\n",
      "Ram fav movie is  Tiger 3\n"
     ]
    }
   ],
   "source": [
    "#Acceing the fav movie\n",
    "print(\"Keshav fav movie is \", fav_movie[0])\n",
    "print(\"Ram fav movie is \", fav_movie[2])\n"
   ]
  },
  {
   "cell_type": "code",
   "execution_count": 25,
   "id": "3dcf6b2a-3f52-40a9-8c03-d6b0d17af396",
   "metadata": {},
   "outputs": [
    {
     "name": "stdout",
     "output_type": "stream",
     "text": [
      "Seprate Movie: Najariya Churaya One Piece Tiger 3\n"
     ]
    }
   ],
   "source": [
    "#\n",
    "x, y, z = fav_movie\n",
    "print(\"Seprate Movie:\", x,y,z)"
   ]
  },
  {
   "cell_type": "code",
   "execution_count": 20,
   "id": "cfe56935-0063-463b-af4b-4777ea6f8bf8",
   "metadata": {},
   "outputs": [
    {
     "name": "stdout",
     "output_type": "stream",
     "text": [
      "Najariya Churaya\n",
      "One Piece\n",
      "Tiger 3\n"
     ]
    }
   ],
   "source": [
    "for movie in fav_movie:\n",
    "    print(movie)"
   ]
  },
  {
   "cell_type": "code",
   "execution_count": 24,
   "id": "4a0a7564-0f6d-4746-9553-6996af87d896",
   "metadata": {},
   "outputs": [
    {
     "name": "stdout",
     "output_type": "stream",
     "text": [
      "('Apple', 'Banana', 'Cherry', 5, 10, 15)\n"
     ]
    }
   ],
   "source": [
    "#joining the two rupples\n",
    "first_tupples = (\"Apple\",\"Banana\", \"Cherry\")\n",
    "secont_tupples = (5,10, 15)\n",
    "joined_tupples = first_tupples + secont_tupples\n",
    "print(joined_tupples)"
   ]
  },
  {
   "cell_type": "code",
   "execution_count": 26,
   "id": "4564140d-1f34-4ff9-87b0-060b81ebfb80",
   "metadata": {},
   "outputs": [],
   "source": [
    "#Sets: Let's learn about sets"
   ]
  },
  {
   "cell_type": "code",
   "execution_count": 49,
   "id": "d517b854-e47d-4bad-af70-ba787d3545c1",
   "metadata": {},
   "outputs": [
    {
     "name": "stdout",
     "output_type": "stream",
     "text": [
      "{'apple', 'banana', 'aanar'}\n"
     ]
    }
   ],
   "source": [
    "#Making set\n",
    "my_first_set = {\"apple\", \"aanar\", \"banana\"}\n",
    "print(my_first_set)"
   ]
  },
  {
   "cell_type": "code",
   "execution_count": 33,
   "id": "dee9abd1-e669-42f6-9cf1-7d6b63e62538",
   "metadata": {},
   "outputs": [
    {
     "name": "stdout",
     "output_type": "stream",
     "text": [
      "{'orange', 'apple', 'banana', 'aanar'}\n"
     ]
    }
   ],
   "source": [
    "#Adding a new fruit to our set \n",
    "my_first_set.add(\"orange\")\n",
    "print(my_first_set)"
   ]
  },
  {
   "cell_type": "code",
   "execution_count": 45,
   "id": "75c2d20c-b0d9-433d-a213-7cc1cb38c296",
   "metadata": {},
   "outputs": [
    {
     "name": "stdout",
     "output_type": "stream",
     "text": [
      "{'Mango', 'orange', 'banana', 'apple', 'Pinaapple'}\n"
     ]
    }
   ],
   "source": [
    "#Update a new fruit to our set \n",
    "my_first_set.update([\"Mango\", \"Pinaapple\"])\n",
    "print(my_first_set)"
   ]
  },
  {
   "cell_type": "code",
   "execution_count": 48,
   "id": "bf263005-78f9-41c1-9e76-8e520ccf78aa",
   "metadata": {},
   "outputs": [
    {
     "name": "stdout",
     "output_type": "stream",
     "text": [
      "{'Mango', 'orange', 'banana', 'apple', 'Pinaapple'}\n"
     ]
    }
   ],
   "source": [
    "#Remove a new fruit to our set \n",
    "my_first_set.remove(\"aanar\")\n",
    "print(my_first_set)"
   ]
  },
  {
   "cell_type": "code",
   "execution_count": 53,
   "id": "f6f2dca5-61b1-4760-854e-c01fc1eda4b6",
   "metadata": {},
   "outputs": [
    {
     "name": "stdout",
     "output_type": "stream",
     "text": [
      "70 is greatest number.\n"
     ]
    }
   ],
   "source": [
    "#Conditional Statement:\n",
    "a = 20\n",
    "b = 50\n",
    "c = 70\n",
    "\n",
    "if a >= b and a >= c:\n",
    "    print(f\"{a} is greatest number.\")\n",
    "elif b >= a and b >= c:\n",
    "    print(f\"{b} is greatest number.\")\n",
    "else:\n",
    "    print(f\"{c} is greatest number.\")"
   ]
  },
  {
   "cell_type": "code",
   "execution_count": 63,
   "id": "fa6f7a53-7fde-444c-a4ba-22c919744924",
   "metadata": {},
   "outputs": [
    {
     "name": "stdout",
     "output_type": "stream",
     "text": [
      "Not Leap year\n"
     ]
    }
   ],
   "source": [
    "#Leap year\n",
    "year = 2025\n",
    "\n",
    "if (year % 4 == 0 and year % 100 != 0) or (year %  400 == 0):\n",
    "    print(\"Leap year\")\n",
    "else:\n",
    "    print(\"Not Leap year\")\n",
    "                                        "
   ]
  },
  {
   "cell_type": "code",
   "execution_count": 67,
   "id": "7532fa13-785a-4eb6-9549-f3c5d3d9db86",
   "metadata": {},
   "outputs": [
    {
     "name": "stdout",
     "output_type": "stream",
     "text": [
      "Autumn\n"
     ]
    }
   ],
   "source": [
    "#Determining the season based on the month\n",
    "month = \"Sep\"\n",
    "\n",
    "if month in [\"Jan\", \"Feb\", \"March\", \"May\"]:\n",
    "    print(\"Rainy\")\n",
    "elif month in [\"Sep\", \"Oct\", \"Nov\"]:\n",
    "    print(\"Autumn\")\n",
    "elif month in [\"June\", \"July\", \"August\"]:\n",
    "    print(\"Summer\")"
   ]
  },
  {
   "cell_type": "markdown",
   "id": "5654aeca-4a81-4c94-a156-a1028d6bfa88",
   "metadata": {},
   "source": [
    "4 Day Class"
   ]
  },
  {
   "cell_type": "code",
   "execution_count": 4,
   "id": "0e4f1389-dc7c-4e61-b5c3-5cc1be3c6d20",
   "metadata": {},
   "outputs": [
    {
     "name": "stdout",
     "output_type": "stream",
     "text": [
      "\n",
      "Multiples of Five:\n",
      "5\n",
      "10\n",
      "15\n",
      "20\n",
      "25\n",
      "30\n",
      "35\n"
     ]
    }
   ],
   "source": [
    "# Loops: Let's Learn\n",
    "multiple_of_five = [5, 10, 15, 20, 25, 30, 35]\n",
    "print(\"\\nMultiples of Five:\")\n",
    "for num in multiple_of_five:\n",
    "    print(num)"
   ]
  },
  {
   "cell_type": "code",
   "execution_count": 6,
   "id": "fb1ea8b2-a95c-4a2e-9a6a-cc780e268065",
   "metadata": {},
   "outputs": [
    {
     "name": "stdout",
     "output_type": "stream",
     "text": [
      "H\n",
      "i\n",
      " \n",
      "i\n",
      " \n",
      "a\n",
      "m\n",
      " \n",
      "L\n",
      "e\n",
      "a\n",
      "r\n",
      "n\n",
      "i\n",
      "n\n",
      "g\n",
      " \n",
      "P\n",
      "y\n",
      "t\n",
      "h\n",
      "o\n",
      "n\n"
     ]
    }
   ],
   "source": [
    "# Let's work with string \n",
    "string = \"Hi i am Learning Python\"\n",
    "\n",
    "for char in string: \n",
    "    print(char)\n",
    "    "
   ]
  },
  {
   "cell_type": "code",
   "execution_count": 16,
   "id": "09677a17-b21a-470a-af36-1f41c4eeb006",
   "metadata": {},
   "outputs": [
    {
     "name": "stdout",
     "output_type": "stream",
     "text": [
      "Range 10: 0\n",
      "Range 10: 1\n",
      "Range 10: 2\n",
      "Range 10: 3\n",
      "Range 10: 4\n",
      "Range 10: 5\n",
      "Range 10: 6\n",
      "Range 10: 7\n",
      "Range 10: 8\n",
      "Range 10: 9\n"
     ]
    }
   ],
   "source": [
    "#Let's range\n",
    "for i in range(10):\n",
    "    print(\"Range 10:\", i)"
   ]
  },
  {
   "cell_type": "code",
   "execution_count": 15,
   "id": "eda55a86-17e3-4235-9e6b-1f3a32cd0083",
   "metadata": {},
   "outputs": [
    {
     "name": "stdout",
     "output_type": "stream",
     "text": [
      "Range Between 1 to 10 1\n",
      "Range Between 1 to 10 2\n",
      "Range Between 1 to 10 3\n",
      "Range Between 1 to 10 4\n",
      "Range Between 1 to 10 5\n",
      "Range Between 1 to 10 6\n",
      "Range Between 1 to 10 7\n",
      "Range Between 1 to 10 8\n",
      "Range Between 1 to 10 9\n"
     ]
    }
   ],
   "source": [
    "#Let's range between\n",
    "for i in range(1, 10):\n",
    "    print(\"Range Between 1 to 10:\", i)"
   ]
  },
  {
   "cell_type": "code",
   "execution_count": 14,
   "id": "93b453ee-41e4-4b68-8fe1-d55bfd6ca35d",
   "metadata": {},
   "outputs": [
    {
     "name": "stdout",
     "output_type": "stream",
     "text": [
      "Even Number: 0\n",
      "Even Number: 2\n",
      "Even Number: 4\n",
      "Even Number: 6\n",
      "Even Number: 8\n",
      "Even Number: 10\n"
     ]
    }
   ],
   "source": [
    "#Even NUmber from 1 to 10 \n",
    "for i in range(0, 11, 2):\n",
    "    print(\"Even Number:\", i)"
   ]
  },
  {
   "cell_type": "code",
   "execution_count": 13,
   "id": "4564a019-c0c3-4585-a91d-7b9349bd3c0d",
   "metadata": {},
   "outputs": [
    {
     "name": "stdout",
     "output_type": "stream",
     "text": [
      "Odd Number: 1\n",
      "Odd Number: 3\n",
      "Odd Number: 5\n",
      "Odd Number: 7\n",
      "Odd Number: 9\n"
     ]
    }
   ],
   "source": [
    "#Odd Number from 1 to 10 \n",
    "for i in range(1, 10, 2):\n",
    "    print(\"Odd Number:\", i)"
   ]
  },
  {
   "cell_type": "code",
   "execution_count": 29,
   "id": "f2942d2b-5cd5-4629-ac07-d82f2a5a0615",
   "metadata": {},
   "outputs": [
    {
     "name": "stdout",
     "output_type": "stream",
     "text": [
      "\n",
      "Odd Number of 1 to 10: 1\n",
      "\n",
      "Odd Number of 1 to 10: 3\n",
      "\n",
      "Odd Number of 1 to 10: 5\n",
      "\n",
      "Odd Number of 1 to 10: 7\n",
      "\n",
      "Odd Number of 1 to 10: 9\n",
      "\n",
      "Even Number of 20 to 11: 20\n",
      "\n",
      "Even Number of 20 to 11: 18\n",
      "\n",
      "Even Number of 20 to 11: 16\n",
      "\n",
      "Even Number of 20 to 11: 14\n",
      "\n",
      "Even Number of 20 to 11: 12\n"
     ]
    }
   ],
   "source": [
    "#Odd Number from 1 to 10  and 20 to 11\n",
    "for i in range(1, 10, 2):\n",
    "    print(\"\\nOdd Number of 1 to 10:\", i)\n",
    "\n",
    "for i in range(20, 11, -2):\n",
    "    print(\"\\nEven Number of 20 to 11:\", i)"
   ]
  },
  {
   "cell_type": "code",
   "execution_count": 34,
   "id": "b58f2bf0-0d59-4be0-aaaf-201dac018fdc",
   "metadata": {},
   "outputs": [
    {
     "name": "stdout",
     "output_type": "stream",
     "text": [
      "KGF , 9\n",
      "Puspa , 9\n",
      "RRR , 9\n"
     ]
    }
   ],
   "source": [
    "#Let's use disctionary\n",
    "fav_movie = {\"KGF\": 9, \"Puspa\": 9, \"RRR\": 9,}\n",
    "\n",
    "for key, value in fav_movie.items():\n",
    "    print(key, \",\", value)"
   ]
  },
  {
   "cell_type": "code",
   "execution_count": 37,
   "id": "5f1e2f5f-c55c-4fca-9966-5a07ab576aed",
   "metadata": {},
   "outputs": [
    {
     "name": "stdout",
     "output_type": "stream",
     "text": [
      "\n",
      "Elements of Fruits Tuple:\n",
      "('Apple', 10)\n",
      "('Banana', 12)\n",
      "('Cherry', 15)\n"
     ]
    }
   ],
   "source": [
    "# Let's learn loop with tuple\n",
    "fruits = [(\"Apple\", 10), (\"Banana\", 12), (\"Cherry\", 15)]\n",
    "print(\"\\nElements of Fruits Tuple:\")\n",
    "\n",
    "for item in fruits:\n",
    "    print(item)"
   ]
  },
  {
   "cell_type": "code",
   "execution_count": 38,
   "id": "04b71066-51bc-4c97-b68d-84ac977499d9",
   "metadata": {},
   "outputs": [
    {
     "name": "stdout",
     "output_type": "stream",
     "text": [
      "Character: Apple | Quantity: 10\n",
      "Character: Banana | Quantity: 12\n",
      "Character: Cherry | Quantity: 15\n"
     ]
    }
   ],
   "source": [
    "# Let's Seprate each element from tuple fruits\n",
    "for char, num in fruits:\n",
    "    print(\"Character:\", char, \"| Quantity:\", num)"
   ]
  },
  {
   "cell_type": "code",
   "execution_count": 39,
   "id": "d0d51b74-08a4-49b2-ba72-d38f38465774",
   "metadata": {},
   "outputs": [
    {
     "name": "stdout",
     "output_type": "stream",
     "text": [
      "1\n",
      "2\n",
      "3\n",
      "4\n",
      "5\n",
      "6\n",
      "7\n",
      "8\n",
      "9\n",
      "10\n"
     ]
    }
   ],
   "source": [
    "# let's learn while loop\n",
    "count = 1\n",
    "while count <= 10:\n",
    "    print(count)\n",
    "    count += 1"
   ]
  },
  {
   "cell_type": "code",
   "execution_count": 42,
   "id": "c8141573-365e-4d52-8ef8-c777530f03ae",
   "metadata": {},
   "outputs": [
    {
     "name": "stdout",
     "output_type": "stream",
     "text": [
      "\n",
      "The Sum of number from 1 - 10 is: 1\n",
      "\n",
      "The Sum of number from 1 - 10 is: 3\n",
      "\n",
      "The Sum of number from 1 - 10 is: 6\n",
      "\n",
      "The Sum of number from 1 - 10 is: 10\n",
      "\n",
      "The Sum of number from 1 - 10 is: 15\n",
      "\n",
      "The Sum of number from 1 - 10 is: 21\n",
      "\n",
      "The Sum of number from 1 - 10 is: 28\n",
      "\n",
      "The Sum of number from 1 - 10 is: 36\n",
      "\n",
      "The Sum of number from 1 - 10 is: 45\n",
      "\n",
      "The Sum of number from 1 - 10 is: 55\n"
     ]
    }
   ],
   "source": [
    "#Find the sum of numbers 1-10 using while loop\n",
    "sum = 0\n",
    "num = 1\n",
    "while num <= 10:\n",
    "    sum += num\n",
    "    num += 1\n",
    "    print(\"\\nThe Sum of number from 1 - 10 is:\", sum)"
   ]
  },
  {
   "cell_type": "code",
   "execution_count": 46,
   "id": "4f19726b-d70b-4dbc-90e2-f9c65c5928d1",
   "metadata": {},
   "outputs": [
    {
     "name": "stdout",
     "output_type": "stream",
     "text": [
      "The sum of numbe rfrom  1 to 10 even numbers only: 30\n"
     ]
    }
   ],
   "source": [
    "# Find the sum of number from  1 to 10 even numbers only\n",
    "sum = 0 \n",
    "num = 1\n",
    "while num <= 10:\n",
    "    if num % 2 == 0:\n",
    "        sum += num\n",
    "    num += 1\n",
    "print(\"The sum of number from  1 to 10 even numbers only:\", sum)"
   ]
  },
  {
   "cell_type": "code",
   "execution_count": 50,
   "id": "2f40ce6c-60d8-48ae-a6b8-9dff4f42fe01",
   "metadata": {},
   "outputs": [
    {
     "name": "stdout",
     "output_type": "stream",
     "text": [
      "1\n",
      "3\n",
      "5\n",
      "7\n",
      "9\n"
     ]
    }
   ],
   "source": [
    "#Find the even number from 1 to 10 using while loop \n",
    "num = 1\n",
    "while num <= 10:\n",
    "    if num % 2 == 1:\n",
    "        print(num)\n",
    "    num += 1"
   ]
  },
  {
   "cell_type": "code",
   "execution_count": 4,
   "id": "2310fe5a-83c0-4133-95ff-a2ed238f06ba",
   "metadata": {},
   "outputs": [
    {
     "name": "stdout",
     "output_type": "stream",
     "text": [
      "Factorial of 5 is : 5\n",
      "Factorial of 5 is : 20\n",
      "Factorial of 5 is : 60\n",
      "Factorial of 5 is : 120\n",
      "Factorial of 5 is : 120\n"
     ]
    }
   ],
   "source": [
    "# Find the factorial of 5\n",
    "number = 5\n",
    "factorial = 1\n",
    "while number > 0:\n",
    "    factorial *= number\n",
    "    number -= 1\n",
    "    print(\"Factorial of 5 is :\", factorial)"
   ]
  },
  {
   "cell_type": "code",
   "execution_count": 8,
   "id": "d4de84bd-cad1-437b-987f-791a963a9af5",
   "metadata": {},
   "outputs": [
    {
     "name": "stdout",
     "output_type": "stream",
     "text": [
      "Reversed string: ymilF\n"
     ]
    }
   ],
   "source": [
    "#Reverse the string using while loop\n",
    "string = \"Flimy\"\n",
    "reversed_string = \"\"\n",
    "length = len(string)\n",
    "while length > 0:\n",
    "    reversed_string += string[length - 1]\n",
    "    length -= 1\n",
    "print(\"Reversed string:\", reversed_string)"
   ]
  },
  {
   "cell_type": "code",
   "execution_count": 10,
   "id": "ebdcec48-fcf4-409d-9e01-42ff136f4fbd",
   "metadata": {},
   "outputs": [
    {
     "name": "stdout",
     "output_type": "stream",
     "text": [
      "Hello World!!\n"
     ]
    }
   ],
   "source": [
    "#Function let's greet first \n",
    "def greet():\n",
    "    print(\"Hello World!!\")\n",
    "greet()"
   ]
  },
  {
   "cell_type": "code",
   "execution_count": 1,
   "id": "4dc065d7-e836-4363-9d2a-ed5b06c444b2",
   "metadata": {},
   "outputs": [
    {
     "name": "stdout",
     "output_type": "stream",
     "text": [
      "Hello Bata\n",
      "Hello Fata\n"
     ]
    }
   ],
   "source": [
    "# Function With Parameters\n",
    "def greet(name):\n",
    "    print(\"Hello\", name)\n",
    "greet(\"Bata\")\n",
    "greet(\"Fata\")"
   ]
  },
  {
   "cell_type": "code",
   "execution_count": 2,
   "id": "2a21711f-07cf-4624-85d6-7f344118ac80",
   "metadata": {},
   "outputs": [
    {
     "name": "stdout",
     "output_type": "stream",
     "text": [
      "100\n"
     ]
    }
   ],
   "source": [
    "# Function with Return Value\n",
    "def square(a):\n",
    "    return a ** 2\n",
    "result = square(10)\n",
    "print(result)"
   ]
  },
  {
   "cell_type": "code",
   "execution_count": 3,
   "id": "b2fdcf35-569d-443a-80c0-91cd3dcff714",
   "metadata": {},
   "outputs": [
    {
     "name": "stdout",
     "output_type": "stream",
     "text": [
      "Hello  Word!!\n",
      "Hello  python!\n"
     ]
    }
   ],
   "source": [
    "# Function wiht default paramenter value\n",
    "def greet_with_default(name = \"Word!!\"):\n",
    "    print(\"Hello \", name)\n",
    "\n",
    "greet_with_default()\n",
    "greet_with_default(name = \"python!\")"
   ]
  },
  {
   "cell_type": "code",
   "execution_count": 4,
   "id": "61adb1c4-fffa-402e-a2ac-cdca0b0abf3d",
   "metadata": {},
   "outputs": [
    {
     "name": "stdout",
     "output_type": "stream",
     "text": [
      "Minimum Number:  1\n",
      "Maximum Number:  500\n"
     ]
    }
   ],
   "source": [
    "# Function with multiple values: find the min and max number\n",
    "def min_max(num):\n",
    "    return min(num), max(num)\n",
    "\n",
    "num = [1, 5, 10, 15, 20, 30, 40, 50, 100, 200, 500]\n",
    "min_num, max_num = min_max(num)\n",
    "print(\"Minimum Number: \", min_num)\n",
    "print(\"Maximum Number: \", max_num)"
   ]
  },
  {
   "cell_type": "code",
   "execution_count": 6,
   "id": "cb97e153-a97c-427f-aa9b-e4f7927647e8",
   "metadata": {},
   "outputs": [
    {
     "name": "stdout",
     "output_type": "stream",
     "text": [
      "Factorial of 5 is : 120\n"
     ]
    }
   ],
   "source": [
    "#Recursive function to calculate factorial\n",
    "def factorial(n):\n",
    "    if n == 0:\n",
    "        return 1\n",
    "    else:\n",
    "        return n * factorial(n -1 )\n",
    "\n",
    "print(\"Factorial of 5 is :\", factorial(5))"
   ]
  },
  {
   "cell_type": "code",
   "execution_count": 8,
   "id": "35f29f9f-e968-414c-b9b9-607702f01d02",
   "metadata": {},
   "outputs": [
    {
     "name": "stdout",
     "output_type": "stream",
     "text": [
      "Sum of 1, 2, 3, 5 and 7: 18\n"
     ]
    }
   ],
   "source": [
    "# Function with the variable number of arguments\n",
    "def sum(*arg):\n",
    "    total = 0\n",
    "    for num in arg: \n",
    "        total += num\n",
    "    return total\n",
    "print(\"Sum of 1, 2, 3, 5 and 7:\" , sum(1, 2, 3, 5, 7))"
   ]
  },
  {
   "cell_type": "code",
   "execution_count": 10,
   "id": "c2ff1649-266f-4f33-94e1-6543af17c9aa",
   "metadata": {},
   "outputs": [
    {
     "name": "stdout",
     "output_type": "stream",
     "text": [
      "Sum of two numbers:  30\n"
     ]
    }
   ],
   "source": [
    "# Lamda Expression or Function\n",
    "square = lambda x, y: x + y\n",
    "print (\"Sum of two numbers: \", sum(10, 20))"
   ]
  },
  {
   "cell_type": "code",
   "execution_count": 12,
   "id": "e13be46b-620f-4aa2-8c52-cf2ef9d7eef1",
   "metadata": {},
   "outputs": [
    {
     "name": "stdout",
     "output_type": "stream",
     "text": [
      "Sorted names based on their characters: ['Bata', 'Saloni', 'Bajesh', 'Lumanti']\n"
     ]
    }
   ],
   "source": [
    "# Sorting based on length (characters) of name\n",
    "names = [\"Bata\", \"Saloni\", \"Lumanti\", \"Bajesh\"]\n",
    "sorted_names = sorted(names, key = lambda name: len(name))\n",
    "print(\"Sorted names based on their characters:\", sorted_names)"
   ]
  },
  {
   "cell_type": "code",
   "execution_count": 16,
   "id": "fb53ba59-4dc5-410f-9acf-73857cf6c904",
   "metadata": {},
   "outputs": [
    {
     "name": "stdout",
     "output_type": "stream",
     "text": [
      "Even numbers from LIst: [2, 8, 6, 10, 20, 54]\n"
     ]
    }
   ],
   "source": [
    "# Find the even numbers in a list using lambda function \n",
    "numbers = [2, 3, 5, 8, 6, 10, 20, 15, 54, 85, 101, 105]\n",
    "even_number = list(filter(lambda x : x % 2 == 0, numbers))\n",
    "print(\"Even numbers from LIst:\", even_number)"
   ]
  },
  {
   "cell_type": "code",
   "execution_count": 17,
   "id": "bf9327b6-77a2-4e40-a849-b18b92fae1b8",
   "metadata": {},
   "outputs": [
    {
     "name": "stdout",
     "output_type": "stream",
     "text": [
      "Squared list of numbers: [4, 9, 25, 64, 36, 100, 400, 225, 2916, 7225, 10201, 11025]\n"
     ]
    }
   ],
   "source": [
    "# Mapping a function to a  list using lambda function \n",
    "number = [1, 2, 3, 4, 5, 6, 7, 8, 9, 10]\n",
    "squared_list = list(map(lambda x: x **2, numbers))\n",
    "print(\"Squared list of numbers:\", squared_list)"
   ]
  },
  {
   "cell_type": "markdown",
   "id": "99fbf724-e87f-40e7-b9d9-739cd07f4a01",
   "metadata": {},
   "source": [
    "oop dsp concept\n",
    "Machine learning DSP"
   ]
  },
  {
   "cell_type": "code",
   "execution_count": 26,
   "id": "d5db7582-16b0-44f0-88c9-97733f88e711",
   "metadata": {},
   "outputs": [
    {
     "name": "stdout",
     "output_type": "stream",
     "text": [
      "[1, 4, 9, 16, 24, 36, 49, 64, 81, 100]\n",
      "My list after popped: [1, 4, 9, 16, 24, 36, 49, 64, 81]\n",
      "Sorted_list: [2, 4, 6, 10, 52, 546, 5646]\n",
      "Reversed list: [5646, 546, 52, 10, 6, 4, 2]\n"
     ]
    }
   ],
   "source": [
    "# Let's learn list Methods\n",
    "my_list = [ 1, 4, 9, 16, 24, 36, 49, 64, 81]\n",
    "\n",
    "#appen\n",
    "my_list.append(100)\n",
    "print(my_list)\n",
    "\n",
    "#pop() : removes and return the last element from the list \n",
    "my_list.pop()\n",
    "print(\"My list after popped:\", my_list)\n",
    "\n",
    "# Sort()\n",
    "new_list = [10, 52, 2, 4, 6, 546, 5646]\n",
    "new_list.sort()\n",
    "print(\"Sorted_list:\", new_list)\n",
    "\n",
    "#reverse()\n",
    "new_list.reverse()\n",
    "print(\"Reversed list:\", new_list)"
   ]
  },
  {
   "cell_type": "code",
   "execution_count": 33,
   "id": "3ae537bd-bb38-4122-9208-ace96c9fa906",
   "metadata": {},
   "outputs": [
    {
     "name": "stdout",
     "output_type": "stream",
     "text": [
      "keys(): dict_keys(['Apple', 'Banana', 'Cherry', 'Pinapple'])\n",
      "Valuess(): dict_values([20, 12, 10, 25])\n",
      "Items(): dict_items([('Apple', 20), ('Banana', 12), ('Cherry', 10), ('Pinapple', 25)])\n",
      "get(): 20\n"
     ]
    }
   ],
   "source": [
    "# using disctionary method \n",
    "my_dict = {\n",
    "    \"Apple\": 20,\n",
    "    \"Banana\": 12,\n",
    "    \"Cherry\": 10,\n",
    "    \"Pinapple\": 25,\n",
    "}\n",
    "# Key () Return a view of all keys in given disctionary\n",
    "print(\"keys():\", my_dict.keys())\n",
    "\n",
    "# values() Return a view of all values in a given disctionary\n",
    "print(\"Valuess():\", my_dict.values())\n",
    "\n",
    "#items() Return a view of all key - value pairs in the disctionary \n",
    "print(\"Items():\", my_dict.items())\n",
    "\n",
    "#get() Return a view of specified key of return default values if not found\n",
    "print(\"get():\", my_dict.get(\"Apple\"))"
   ]
  },
  {
   "cell_type": "code",
   "execution_count": 34,
   "id": "8a7231b1-da9d-4f21-9c68-efbd0d141834",
   "metadata": {},
   "outputs": [
    {
     "name": "stdout",
     "output_type": "stream",
     "text": [
      "Collecting pandoc\n",
      "  Downloading pandoc-2.3.tar.gz (33 kB)\n",
      "  Preparing metadata (setup.py): started\n",
      "  Preparing metadata (setup.py): finished with status 'done'\n",
      "Collecting plumbum (from pandoc)\n",
      "  Downloading plumbum-1.8.3-py3-none-any.whl.metadata (10 kB)\n",
      "Requirement already satisfied: ply in c:\\users\\pashupati chaudhary\\anaconda3\\lib\\site-packages (from pandoc) (3.11)\n",
      "Requirement already satisfied: pywin32 in c:\\users\\pashupati chaudhary\\anaconda3\\lib\\site-packages (from plumbum->pandoc) (305.1)\n",
      "Downloading plumbum-1.8.3-py3-none-any.whl (127 kB)\n",
      "   ---------------------------------------- 0.0/127.6 kB ? eta -:--:--\n",
      "   ---------------------------------------- 0.0/127.6 kB ? eta -:--:--\n",
      "   ---------------------------------------- 0.0/127.6 kB ? eta -:--:--\n",
      "   ---------------------------------------- 0.0/127.6 kB ? eta -:--:--\n",
      "   ---------------------------------------- 0.0/127.6 kB ? eta -:--:--\n",
      "   ------------------------- -------------- 81.9/127.6 kB 4.5 MB/s eta 0:00:01\n",
      "   ---------------------------------------- 127.6/127.6 kB 1.5 MB/s eta 0:00:00\n",
      "Building wheels for collected packages: pandoc\n",
      "  Building wheel for pandoc (setup.py): started\n",
      "  Building wheel for pandoc (setup.py): finished with status 'done'\n",
      "  Created wheel for pandoc: filename=pandoc-2.3-py3-none-any.whl size=33286 sha256=31020a486d42f189279add17150adff00a3ef6d9e6a9ca288dec804916aab4bb\n",
      "  Stored in directory: c:\\users\\pashupati chaudhary\\appdata\\local\\pip\\cache\\wheels\\1c\\a9\\c4\\6254542c4e8202d52fcd69798d2507aaad1f2a4bb60f2f0fea\n",
      "Successfully built pandoc\n",
      "Installing collected packages: plumbum, pandoc\n",
      "Successfully installed pandoc-2.3 plumbum-1.8.3\n",
      "Note: you may need to restart the kernel to use updated packages.\n"
     ]
    }
   ],
   "source": [
    "pip install pandoc"
   ]
  },
  {
   "cell_type": "code",
   "execution_count": null,
   "id": "2a4d9745-08fc-4c78-8713-d795151b2074",
   "metadata": {},
   "outputs": [],
   "source": []
  }
 ],
 "metadata": {
  "kernelspec": {
   "display_name": "Python 3 (ipykernel)",
   "language": "python",
   "name": "python3"
  },
  "language_info": {
   "codemirror_mode": {
    "name": "ipython",
    "version": 3
   },
   "file_extension": ".py",
   "mimetype": "text/x-python",
   "name": "python",
   "nbconvert_exporter": "python",
   "pygments_lexer": "ipython3",
   "version": "3.11.7"
  }
 },
 "nbformat": 4,
 "nbformat_minor": 5
}
